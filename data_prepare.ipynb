{
 "cells": [
  {
   "cell_type": "markdown",
   "metadata": {},
   "source": [
    "## 사용자별 하나씩 데이터를 남긴다.\n",
    "\n",
    "**데이터 설명**   \n",
    "* subreddit: 서브레딧명\n",
    "* author: 글 작성자\n",
    "* title: 글 제목\n",
    "* text_context: 글 본문\n",
    "* date: 글 작성 시간\n",
    "* content: title + text_context\n",
    "\n",
    "**데이터 전처리**\n",
    "* null 값 제거\n",
    "* title + text_context\n",
    "* 중복 author 제거: 과적합을 막기 위해 사용자당 하나의 게시물만 사용함 \n",
    "   => 특정 사용자의 게시글이 많다면 해당 사용자의 특수한 언어특징을 학습할 수 있기에\n",
    "* Bot 제거\n",
    "* quote 제거\n",
    "\n",
    "**데이터크기**\n",
    "1. schizophrenia 원본 데이터: 60009개 => 13156개"
   ]
  },
  {
   "cell_type": "code",
   "execution_count": 1,
   "metadata": {},
   "outputs": [],
   "source": [
    "import pandas as pd\n",
    "import numpy as np"
   ]
  },
  {
   "cell_type": "code",
   "execution_count": 6,
   "metadata": {},
   "outputs": [],
   "source": [
    "input_dir = 'D:\\\\2021-겨울\\\\소융캡스톤\\\\capstone\\\\data\\\\input\\\\'\n",
    "#output_dir = 'D:\\\\2021-겨울\\\\소융캡스톤\\\\reddit\\\\data\\\\output\\\\'"
   ]
  },
  {
   "cell_type": "code",
   "execution_count": 7,
   "metadata": {},
   "outputs": [],
   "source": [
    "df_subreddit = pd.read_csv(input_dir + f'schizo_origin.csv')"
   ]
  },
  {
   "cell_type": "code",
   "execution_count": 9,
   "metadata": {},
   "outputs": [],
   "source": [
    "# Null 값 삭제\n",
    "df_subreddit = df_subreddit.drop(df_subreddit[df_subreddit['author'] == '[deleted]'].index)\n",
    "df_subreddit = df_subreddit.drop(df_subreddit[df_subreddit['text_context'] == '[deleted]'].index)\n",
    "df_subreddit = df_subreddit.drop(df_subreddit[df_subreddit['text_context'] == '[removed]'].index)\n",
    "df_subreddit = df_subreddit.drop(df_subreddit[df_subreddit['text_context'].isnull()].index)\n",
    "\n",
    "\n",
    "# title이나 본문 내용이 nan인 경우 치환\n",
    "df_subreddit= df_subreddit.fillna(\"\")\n",
    "\n",
    "# title + content \n",
    "df_subreddit['content'] = df_subreddit[['title', 'text_context']].apply(' '.join, axis=1)\n",
    "\n",
    "#pre-process to remove duplicate posters, any bots, and posts that have the word quote\n",
    "df_subreddit = df_subreddit.drop_duplicates(subset=\"author\")\n",
    "df_subreddit = df_subreddit[~df_subreddit.content.str.contains('(?i)bot')]\n",
    "df_subreddit = df_subreddit[~df_subreddit.content.str.contains('(?i)quote')]"
   ]
  },
  {
   "cell_type": "code",
   "execution_count": 11,
   "metadata": {},
   "outputs": [],
   "source": [
    "df_subreddit.to_csv(input_dir + f'author_1_schizo.csv', index = False)"
   ]
  }
 ],
 "metadata": {
  "kernelspec": {
   "display_name": "Python 3",
   "language": "python",
   "name": "python3"
  },
  "language_info": {
   "codemirror_mode": {
    "name": "ipython",
    "version": 3
   },
   "file_extension": ".py",
   "mimetype": "text/x-python",
   "name": "python",
   "nbconvert_exporter": "python",
   "pygments_lexer": "ipython3",
   "version": "3.6.5"
  }
 },
 "nbformat": 4,
 "nbformat_minor": 4
}
